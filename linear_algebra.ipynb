{
 "cells": [
  {
   "cell_type": "markdown",
   "id": "934383c8a910ae37",
   "metadata": {},
   "source": [
    "Преобразование изображений с помощью NumPy\n",
    "В этом проекте мы будем создавать и преобразовывать изображения, используя возможности массивов NumPy и линейной алгебры. Мы увидим, как можно представлять массивы NumPy в виде изображений и преобразовывать эти изображения, рассматривая их как матрицы.\n"
   ]
  },
  {
   "cell_type": "code",
   "execution_count": null,
   "id": "67061e17b020bd4d",
   "metadata": {},
   "outputs": [],
   "source": [
    "import numpy as np\n",
    "import matplotlib.pyplot as plt\n",
    "\n",
    "\n",
    "heart_img = np.array([[255,0,0,255,0,0,255],\n",
    "                      [0,255/2,255/2,0,255/2,255/2,0],\n",
    "                      [0,255/2,255/2,255/2,255/2,255/2,0],\n",
    "                      [0,255/2,255/2,255/2,255/2,255/2,0],\n",
    "                      [255,0,255/2,255/2,255/2,0,255],\n",
    "                      [255,255,0,255/2,0,255,255],\n",
    "                      [255,255,255,0,255,255,255]])\n",
    "\n",
    "def show_image(image, name_identifier):\n",
    "    plt.imshow(image, cmap=\"gray\")\n",
    "    plt.title(name_identifier)\n",
    "    plt.show()"
   ]
  },
  {
   "cell_type": "markdown",
   "id": "636fbddfc7f193cf",
   "metadata": {},
   "source": [
    "heart_img: массив NumPy, представляющий матрицу 7x7 значений RGB\n",
    "show_image(): вспомогательная функция, которая позволит вам легко показывать изображения в вашем проекте.\n",
    "Мы собираемся использовать show_image(), чтобы показать фотографию, которую представляет heart_img. Прежде чем мы это сделаем, давайте рассмотрим функциональность функции show_image().\n",
    "\n",
    "show_image() принимает два параметра:\n",
    "\n",
    "image: массив NumPy значений RGB\n",
    "name_identifier: строка для названия фотографии (это облегчит отслеживание того, что отображается в проекте)\n",
    "Используйте show_image() для построения графика heart_img с заголовком \"Изображение сердца\"\n",
    "\n",
    "\n"
   ]
  },
  {
   "cell_type": "code",
   "execution_count": null,
   "id": "b07419c5888977fc",
   "metadata": {},
   "outputs": [],
   "source": [
    "#show heart\n",
    "show_image(heart_img, \"Heart\")"
   ]
  },
  {
   "cell_type": "markdown",
   "id": "8353bde8fc5847d7",
   "metadata": {},
   "source": [
    "Теперь, когда мы поняли, как массив NumPy сопоставляется с изображением, давайте сделаем несколько забавных преобразований изображений!\n",
    "\n",
    "Поскольку наше изображение - это матрица, мы можем выполнять преобразования, основанные на линейной алгебре."
   ]
  },
  {
   "cell_type": "markdown",
   "id": "bc22a2d51d00101f",
   "metadata": {},
   "source": [
    "Сначала давайте инвертируем цвета нашего изображения сердца"
   ]
  },
  {
   "cell_type": "code",
   "execution_count": null,
   "id": "2169c31b06efec7c",
   "metadata": {},
   "outputs": [],
   "source": [
    "#try to invert color of image\n",
    "inverted_heart_img = 255 - heart_img\n",
    "show_image(inverted_heart_img, \"Inverted Heart\")"
   ]
  },
  {
   "cell_type": "markdown",
   "id": "25de78933497ac08",
   "metadata": {},
   "source": [
    "Давайте выполним еще одно преобразование изображения. На этот раз построим график вращения heart_img"
   ]
  },
  {
   "cell_type": "code",
   "execution_count": null,
   "id": "dfee4fb92934dc1e",
   "metadata": {},
   "outputs": [],
   "source": [
    "rotated_heart_img = heart_img.T\n",
    "show_image(rotated_heart_img, \"Rotated Heart\")"
   ]
  },
  {
   "cell_type": "markdown",
   "id": "7c2a98c055e310a",
   "metadata": {},
   "source": [
    "Создайте случайно изображение с использованием numpy. Должна выйти матрица (7x7)"
   ]
  },
  {
   "cell_type": "code",
   "execution_count": null,
   "id": "a93dc64e961dfe1",
   "metadata": {},
   "outputs": [],
   "source": [
    "random_img = np.random.randint(0,255, (7,7))\n",
    "show_image(random_img, \"Random Image\")"
   ]
  },
  {
   "cell_type": "markdown",
   "id": "f8b1541871fd359d",
   "metadata": {},
   "source": [
    "Мы хотим решить матрицу, создающую heart_img, учитывая следующее уравнение:\n",
    "\n",
    "random_img⋅x=heart_img\n",
    "Создайте переменную x, которая будет решением этого уравнения.\n",
    "\n",
    "Создайте переменную solved_heart_img, которая будет равна произведению random_img и x.\n",
    "\n",
    "Постройте график solved_heart_img с заголовком \"Solved Heart Image\".\n"
   ]
  },
  {
   "cell_type": "code",
   "execution_count": null,
   "id": "9992521a512e8e05",
   "metadata": {},
   "outputs": [],
   "source": [
    "x = np.linalg.solve(random_img, heart_img)\n",
    "solved_heart_img = np.matmul(random_img, x)\n",
    "show_image(x, \"x\")\n",
    "show_image(solved_heart_img, \"Solved Heart Image\")"
   ]
  }
 ],
 "metadata": {
  "kernelspec": {
   "display_name": "Python 3",
   "language": "python",
   "name": "python3"
  },
  "language_info": {
   "codemirror_mode": {
    "name": "ipython",
    "version": 2
   },
   "file_extension": ".py",
   "mimetype": "text/x-python",
   "name": "python",
   "nbconvert_exporter": "python",
   "pygments_lexer": "ipython2",
   "version": "2.7.6"
  }
 },
 "nbformat": 4,
 "nbformat_minor": 5
}
